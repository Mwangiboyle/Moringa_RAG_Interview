{
 "cells": [
  {
   "cell_type": "markdown",
   "id": "498e5477",
   "metadata": {},
   "source": [
    "Load PDF and split into chunks"
   ]
  },
  {
   "cell_type": "code",
   "execution_count": 110,
   "id": "2fcccd96",
   "metadata": {},
   "outputs": [],
   "source": [
    "documennt1 = \"National-Livestock-Agenda-2025.pdf\"\n",
    "\n",
    "from langchain_community.document_loaders import PyMuPDFLoader\n",
    "\n",
    "loader = PyMuPDFLoader(file_path=documennt1)\n",
    "\n",
    "document = loader.load()"
   ]
  },
  {
   "cell_type": "code",
   "execution_count": 112,
   "id": "5863baa9",
   "metadata": {},
   "outputs": [
    {
     "data": {
      "text/plain": [
       "{'producer': 'Corel PDF Engine Version 17.2.0.688',\n",
       " 'creator': 'CorelDRAW X7',\n",
       " 'creationdate': '2025-04-03T07:25:49-05:00',\n",
       " 'source': 'National-Livestock-Agenda-2025.pdf',\n",
       " 'file_path': 'National-Livestock-Agenda-2025.pdf',\n",
       " 'total_pages': 55,\n",
       " 'format': 'PDF 1.5',\n",
       " 'title': 'National Livestock Agenda.cdr',\n",
       " 'author': 'Administrator',\n",
       " 'subject': '',\n",
       " 'keywords': '',\n",
       " 'moddate': '2025-04-03T07:25:49-05:00',\n",
       " 'trapped': '',\n",
       " 'modDate': \"D:20250403072549-05'00'\",\n",
       " 'creationDate': \"D:20250403072549-05'00'\",\n",
       " 'page': 12}"
      ]
     },
     "execution_count": 112,
     "metadata": {},
     "output_type": "execute_result"
    }
   ],
   "source": [
    "document[12].metadata"
   ]
  },
  {
   "cell_type": "code",
   "execution_count": 113,
   "id": "af3b88a0",
   "metadata": {},
   "outputs": [
    {
     "data": {
      "text/plain": [
       "'KENYA NATIONAL LIVESTOCK RESEARCH AGENDA\\n \\n \\n \\n \\n \\n \\n \\n \\n \\n5\\nCHAPTER 2: SITUATIONAL ANALYSIS\\n2.1\\nKEY CHALLENGES AND OPPORTUNITIES IN LIVESTOCK VALUE CHAINS\\nChallenges\\n2.1.1  \\n2.1.2  OpportuniƟes\\ni.\\nInadequate and inconsistent/uncertain investment and funding for livestock research.\\nii. Inadequate livestock research faciliƟes and infrastructure.\\niii. Conﬂict and overlaps in insƟtuƟonal mandates.\\niv. Poor coordinaƟon and regulaƟon of livestock research.\\nv.\\nInadequate and ineﬀecƟve collaboraƟon and partnership among insƟtuƟons undertaking and\\nsupporƟng livestock research.\\nvi. Uncoordinated livestock research priority seƫng.\\nvii. Weak linkage between research priority seƫng; and research program planning.\\nviii.Weak linkage and collaboraƟon between farmers, extension, and researchers.\\nix. Poor and inadequate sharing and disseminaƟon of livestock knowledge.\\nx.\\nInadequate tracking of performance in livestock research programs.\\nxi. Low adopƟon, upscaling, and commercializaƟon of livestock technologies and innovaƟons.\\nxii. Inadequate human resources to manage and support livestock research.\\nxiii.Limited private sector parƟcipaƟon in research.\\ni.\\nSessional Paper No. 3 of 2020 on The Livestock Policy and other related policies and strategies\\nthat promote the need to address livestock issues are already in place.\\nii. The NaƟonal Research Fund and other funding agencies that support livestock research exist.\\niii. Presence of naƟonal, regional and internaƟonal insƟtuƟons, agencies, and networks willing to\\nfund and collaborate in livestock research.\\niv. PoliƟcal good-will for strengthening research and development exists; and\\nv.\\nKenya has raƟﬁed internaƟonal convenƟons related to livestock research.\\nVarious livestock value chains operate across diverse producƟon systems, including intensive, semi-\\nintensive, and pastoral systems. BoƩom-Up Economic TransformaƟon Agenda (BETA) focuses on\\nimproving agricultural producƟon and producƟvity, value addiƟon and markeƟng, and prioriƟzing\\nselect livestock value chains namely, dairy, beef, and leather development. Special emphasis will be\\ngiven to the priority value chains idenƟﬁed under all the relevant policies governing the livestock\\nsector. This secƟon outlines key livestock value chains and background on research issues. Research in\\nlivestock value chains is criƟcal to addressing producƟvity challenges, disease threats, climate\\nresilience, and market compeƟƟveness. Strengthening research within speciﬁc value chains will\\nenhance food security, livelihoods, and economic growth in Kenya’s livestock sector.\\n \\n2.2 LIVESTOCK VALUE CHAINS'"
      ]
     },
     "execution_count": 113,
     "metadata": {},
     "output_type": "execute_result"
    }
   ],
   "source": [
    "document[12].page_content"
   ]
  },
  {
   "cell_type": "code",
   "execution_count": 114,
   "id": "cd958124",
   "metadata": {},
   "outputs": [
    {
     "name": "stdout",
     "output_type": "stream",
     "text": [
      "The length of the original document is : 55\n",
      "The length of the chunks is :163\n"
     ]
    }
   ],
   "source": [
    "#splitting document to chunks\n",
    "from langchain_text_splitters import RecursiveCharacterTextSplitter\n",
    "\n",
    "splitter = RecursiveCharacterTextSplitter(chunk_size=1000, chunk_overlap=200)\n",
    "\n",
    "chunks = splitter.split_documents(document)\n",
    "\n",
    "print(f\"The length of the original document is : {len(document)}\")\n",
    "print(f\"The length of the chunks is :{len(chunks)}\")"
   ]
  },
  {
   "cell_type": "code",
   "execution_count": 115,
   "id": "4fe6e478",
   "metadata": {},
   "outputs": [
    {
     "data": {
      "text/plain": [
       "{'producer': 'Corel PDF Engine Version 17.2.0.688',\n",
       " 'creator': 'CorelDRAW X7',\n",
       " 'creationdate': '2025-04-03T07:25:49-05:00',\n",
       " 'source': 'National-Livestock-Agenda-2025.pdf',\n",
       " 'file_path': 'National-Livestock-Agenda-2025.pdf',\n",
       " 'total_pages': 55,\n",
       " 'format': 'PDF 1.5',\n",
       " 'title': 'National Livestock Agenda.cdr',\n",
       " 'author': 'Administrator',\n",
       " 'subject': '',\n",
       " 'keywords': '',\n",
       " 'moddate': '2025-04-03T07:25:49-05:00',\n",
       " 'trapped': '',\n",
       " 'modDate': \"D:20250403072549-05'00'\",\n",
       " 'creationDate': \"D:20250403072549-05'00'\",\n",
       " 'page': 9}"
      ]
     },
     "execution_count": 115,
     "metadata": {},
     "output_type": "execute_result"
    }
   ],
   "source": [
    "chunks[35].metadata\n",
    "\n"
   ]
  },
  {
   "cell_type": "code",
   "execution_count": 116,
   "id": "d4067296",
   "metadata": {},
   "outputs": [
    {
     "data": {
      "text/plain": [
       "'cascades to poor funding consideraƟons for prioriƟes within the livestock sector, slowing down the\\nproducƟon of innovaƟve ﬁndings and adapƟve research in livestock.\\nThe NaƟonal Agricultural Research System (NARS) Policy (2012) lays the ground for a well-coordinated\\nlivestock research agenda. However, this has had challenges over the years with limited results.\\nCurrently, most livestock-related research and technological development in the country is being\\nsupported by the naƟonal government and development partners. The key challenges include low\\nbudgetary consideraƟons by the government. The contribuƟon of the development partners though\\nof signiﬁcant proporƟon is largely inadequate to address the naƟonal livestock research needs. The\\ninclusion of the livestock research agenda within the overall agricultural research funding\\nconsideraƟons relegates the importance and focus of funding for livestock sector research. Under this'"
      ]
     },
     "execution_count": 116,
     "metadata": {},
     "output_type": "execute_result"
    }
   ],
   "source": [
    "chunks[35].page_content"
   ]
  },
  {
   "cell_type": "code",
   "execution_count": 117,
   "id": "870d10ca",
   "metadata": {},
   "outputs": [
    {
     "data": {
      "text/plain": [
       "'inclusion of the livestock research agenda within the overall agricultural research funding\\nconsideraƟons relegates the importance and focus of funding for livestock sector research. Under this\\narrangement, the crop agriculture component is given greater consideraƟon in all administraƟve\\nmaƩers including allocaƟon of funding for research thus slowing down the development and\\nimplementaƟon of appropriate livestock research agenda. DisseminaƟon of research ﬁndings among\\nLivestock Sector stakeholders is also limited. This is further complicated by the limited translaƟonal\\nand disseminaƟon of livestock-related scienƟﬁc ﬁndings and their adopƟon in addiƟon, key socio-\\neconomic factors that inﬂuence livestock producƟon have not been given suﬃcient aƩenƟon in\\nresearch.\\nThe NaƟonal Livestock Research Agenda (NLRA) is designed to serve as a guide for planning,\\nprioriƟzing, and allocaƟng funding for livestock research programmes. It is expected to meet the'"
      ]
     },
     "execution_count": 117,
     "metadata": {},
     "output_type": "execute_result"
    }
   ],
   "source": [
    "chunks[36].page_content"
   ]
  },
  {
   "cell_type": "markdown",
   "id": "57184e92",
   "metadata": {},
   "source": [
    "Generate embeddings and index with FAISS"
   ]
  },
  {
   "cell_type": "code",
   "execution_count": 118,
   "id": "7873e85f",
   "metadata": {},
   "outputs": [],
   "source": [
    "from langchain_mistralai.chat_models import ChatMistralAI\n",
    "from langchain_mistralai.embeddings import MistralAIEmbeddings\n",
    "from warnings import filterwarnings\n",
    "from dotenv import load_dotenv\n",
    "import os\n",
    "\n",
    "load_dotenv()\n",
    "filterwarnings(action=\"ignore\")\n",
    "\n",
    "#load api key from environment variable\n",
    "api_key = os.getenv(\"MISTRAL_API_KEY\")\n",
    "\n",
    "#load the embedding models\n",
    "embedding_model= MistralAIEmbeddings(api_key=api_key)"
   ]
  },
  {
   "cell_type": "code",
   "execution_count": 119,
   "id": "9d7cc22c",
   "metadata": {},
   "outputs": [],
   "source": [
    "from langchain_community.vectorstores import FAISS\n",
    "\n",
    "vector_store = FAISS.from_documents(chunks, embedding_model)"
   ]
  },
  {
   "cell_type": "code",
   "execution_count": 120,
   "id": "a567da51",
   "metadata": {},
   "outputs": [],
   "source": [
    "# FAISS stores two things: embeddings (vectors) and the original documents\n",
    "embedding_matrix = vector_store.index.reconstruct_n(35)\n"
   ]
  },
  {
   "cell_type": "code",
   "execution_count": 121,
   "id": "4df6c61b",
   "metadata": {},
   "outputs": [
    {
     "data": {
      "text/plain": [
       "array([[-0.04388428,  0.0279541 ,  0.03216553, ..., -0.04013062,\n",
       "         0.02290344, -0.01527405],\n",
       "       [-0.04577637,  0.03396606,  0.02476501, ..., -0.02607727,\n",
       "         0.00984955, -0.03207397],\n",
       "       [-0.04760742,  0.05548096,  0.03659058, ..., -0.04629517,\n",
       "         0.02363586, -0.01821899],\n",
       "       ...,\n",
       "       [-0.04638672, -0.01068878,  0.034729  , ..., -0.02926636,\n",
       "         0.03001404,  0.01751709],\n",
       "       [-0.04837036,  0.01301575,  0.02572632, ..., -0.05267334,\n",
       "         0.02403259,  0.00716019],\n",
       "       [-0.03848267,  0.03637695,  0.03167725, ..., -0.05395508,\n",
       "         0.04730225, -0.01212311]], shape=(128, 1024), dtype=float32)"
      ]
     },
     "execution_count": 121,
     "metadata": {},
     "output_type": "execute_result"
    }
   ],
   "source": [
    "embedding_matrix"
   ]
  },
  {
   "cell_type": "markdown",
   "id": "eeb027a3",
   "metadata": {},
   "source": [
    "Query handling + retrieval"
   ]
  },
  {
   "cell_type": "code",
   "execution_count": 122,
   "id": "975f2c89",
   "metadata": {},
   "outputs": [
    {
     "data": {
      "text/plain": [
       "'cascades to poor funding consideraƟons for prioriƟes within the livestock sector, slowing down the\\nproducƟon of innovaƟv'"
      ]
     },
     "execution_count": 122,
     "metadata": {},
     "output_type": "execute_result"
    }
   ],
   "source": [
    "sample= chunks[35].page_content[:120]\n",
    "\n",
    "sample"
   ]
  },
  {
   "cell_type": "code",
   "execution_count": 132,
   "id": "5a414041",
   "metadata": {},
   "outputs": [
    {
     "name": "stdout",
     "output_type": "stream",
     "text": [
      "🔹 Chunk 1\n",
      "Content: cascades to poor funding consideraƟons for prioriƟes within the livestock sector, slowing down the\n",
      "producƟon of innovaƟve ﬁndings and adapƟve research in livestock.\n",
      "The NaƟonal Agricultural Research System (NARS) Policy (2012) lays the ground for a well-coordinated\n",
      "livestock research agenda. However, this has had challenges over the years with limited results.\n",
      "Currently, most livestock-related research and technological development in the country is being\n",
      "supported by the naƟonal government and development partners. The key challenges include low\n",
      "budgetary consideraƟons by the government. The contribuƟon of the development partners though\n",
      "of signiﬁcant proporƟon is largely inadequate to address the naƟonal livestock research needs. The\n",
      "inclusion of the livestock research agenda within the overall agricultural research funding\n",
      "consideraƟons relegates the importance and focus of funding for livestock sector research. Under this\n",
      "Score (distance): 0.1437\n",
      "\n",
      "🔹 Chunk 2\n",
      "Content: leading to pressure on agricultural land and negaƟve ecological outcomes; unsustainable land and\n",
      "environment management pracƟces; dependency on unreliable rain-fed agriculture; inaccessible and\n",
      "high input costs; climate change resulƟng in severe, erraƟc weather paƩerns, and emerging pests and\n",
      "diseases; and, decreasing access to producƟon resources such as, credit and technology amidst\n",
      "increasing poverty levels.\n",
      "To increase livestock producƟvity, research must include improvements in breeding and husbandry.\n",
      "Further, the adopƟon of emerging livestock technologies and innovaƟons can lead to increased\n",
      "producƟvity and quality along livestock value chains. However, livestock research is constrained by,\n",
      "among\n",
      "others,\n",
      "inadequate\n",
      "prioriƟzaƟon\n",
      "of\n",
      "researchable\n",
      "areas,\n",
      "which\n",
      "leads\n",
      "to\n",
      "lack\n",
      "of\n",
      "complementarity between livestock research insƟtuƟons and programmes, duplicaƟon of livestock\n",
      "research eﬀorts and weak interdisciplinary collaboraƟons and partnerships in livestock research.\n",
      "Score (distance): 0.2142\n",
      "\n",
      "🔹 Chunk 3\n",
      "Content: approaches, and regional potenƟal. Kenya also suﬀers from inadequate data and informaƟon \n",
      "management, which leads to poor planning and prioriƟzaƟon for improved services. This \n",
      "includes insuﬃcient mapping and inventory of breeds, poor markeƟng for livestock and \n",
      "livestock products, and inadequate technical, human, and livestock-associated\n",
      "infrastructure and capacity. The lack or under-uƟlizaƟon of appropriate emerging technologies \n",
      "has resulted in limited upscaling for smallholder farmers and has led to the producƟon of \n",
      "livestock and associated products in low quanƟƟes and of poor quality, causing their products \n",
      "to be neglected by both domesƟc and internaƟonal markets.\n",
      "In the past decade, technological and socio-economic factors aﬀecƟng livestock research have \n",
      "changed signiﬁcantly. During the same Ɵme, livestock development has increasingly focused \n",
      "on diversifying, value addiƟon, improving product quality, food safety, promoƟng equity in\n",
      "Score (distance): 0.2233\n",
      "\n",
      "🔹 Chunk 4\n",
      "Content: producƟvity,\n",
      "and\n",
      "promoƟng\n",
      "sustainable\n",
      "development in the sector.\n",
      "The livestock research agenda must prioriƟze\n",
      "the development and implementaƟon of a\n",
      "comprehensive LRIM system that integrates\n",
      "data from various sources, including remote\n",
      "sensing, ground surveys, and digital livestock\n",
      "registries. This system should provide Ɵmely\n",
      "and\n",
      "accurate\n",
      "informaƟon\n",
      "on\n",
      "livestock\n",
      "populaƟons,\n",
      "grazing\n",
      "resources,\n",
      "water\n",
      "availability, disease outbreaks, market prices,\n",
      "and other criƟcal parameters. Furthermore, it\n",
      "should incorporate geospaƟal technologies to\n",
      "map and monitor rangelands, idenƟfy areas\n",
      "of\n",
      "degradaƟon,\n",
      "and\n",
      "opƟmize\n",
      "grazing\n",
      "management pracƟces. By leveraging data-\n",
      "driven insights, policymakers, researchers, and\n",
      "livestock\n",
      "producers\n",
      "can\n",
      "make\n",
      "informed\n",
      "decisions,\n",
      "miƟgate\n",
      "allocate resources eﬀecƟvely, and\n",
      "risks.\n",
      "Score (distance): 0.2366\n",
      "\n"
     ]
    }
   ],
   "source": [
    "retriever = vector_store.as_retriever(search_type=\"similarity\", search_kwargs={\"k\": 4})\n",
    "\n",
    "# Retrieve documents and similarity scores\n",
    "docs_and_scores = vector_store.similarity_search_with_score(sample, k=4)\n",
    "\n",
    "for i, (doc, score) in enumerate(docs_and_scores):\n",
    "    print(f\"🔹 Chunk {i+1}\")\n",
    "    print(\"Content:\", doc.page_content)\n",
    "    print(f\"Score (distance): {score:.4f}\\n\")\n"
   ]
  },
  {
   "cell_type": "markdown",
   "id": "dbe3038c",
   "metadata": {},
   "source": [
    "Response generation with LangChain + Mistral"
   ]
  },
  {
   "cell_type": "code",
   "execution_count": 126,
   "id": "3bc32a40",
   "metadata": {},
   "outputs": [],
   "source": [
    "from langchain_mistralai.chat_models import ChatMistralAI\n",
    "from langchain_core.prompts import ChatPromptTemplate\n",
    "from langchain.chains import create_retrieval_chain\n",
    "from langchain.chains.combine_documents import create_stuff_documents_chain\n",
    "\n",
    "llm=ChatMistralAI(api_key=api_key)\n",
    "\n",
    "prompt = ChatPromptTemplate.from_template(\n",
    "    \"\"\"\n",
    "    Answer the questions based on the provided context only.\n",
    "    Please provide the most accurate response based on the question.\n",
    "    <context>\n",
    "    {context}\n",
    "    <context>\n",
    "    Questions: {input}\n",
    "    \"\"\"\n",
    "\n",
    ")"
   ]
  },
  {
   "cell_type": "code",
   "execution_count": 128,
   "id": "7dce1bec",
   "metadata": {},
   "outputs": [
    {
     "name": "stdout",
     "output_type": "stream",
     "text": [
      "Answer:\n",
      " Based on the provided context, the challenges faced by Kenya in the agriculture and livestock sector include:\n",
      "\n",
      "1. Diseases and poor health management of livestock.\n",
      "2. Malnutrition among livestock.\n",
      "3. Low productivity and mismanagement in the livestock industry.\n",
      "4. Inadequate investment and funding for livestock research.\n",
      "5. Inadequate livestock research facilities and infrastructure.\n",
      "6. Conflict and overlaps in institutional mandates.\n",
      "7. Poor coordination and regulation of livestock research.\n",
      "8. Inadequate and ineffective collaboration and partnership among institutions involved in livestock research.\n",
      "9. Uncoordinated livestock research priority setting.\n",
      "10. Weak linkage between research priority setting and research program planning.\n",
      "11. Weak linkage and collaboration between farmers, extension, and researchers.\n",
      "12. Inadequate sharing and dissemination of livestock knowledge.\n",
      "13. Inadequate tracking of performance in livestock research programs.\n",
      "14. Increasing human population leading to pressure on agricultural land and negative ecological outcomes.\n",
      "15. Unsustainable land and environment management practices.\n",
      "16. Dependency on unreliable rain-fed agriculture.\n",
      "17. Changing consumer preferences for new livestock products and higher food safety standards.\n",
      "18. Environmental concerns leading consumers to avoid harmful chemicals and unsustainable production practices.\n",
      "\n",
      "These challenges highlight the need for increased investment, research, and innovation in the Kenyan agriculture and livestock sector to promote sustainable and climate-smart production practices, while also meeting the demands of a changing global market.\n"
     ]
    }
   ],
   "source": [
    "\"\"\"\n",
    "Runs a simple Retrieval-Augmented Generation (RAG) pipeline using a retriever and LLM chain.\n",
    "\n",
    "Steps:\n",
    "1. Accepts a user query as input.\n",
    "2. Converts the query into an embedding and searches the vector store for relevant document chunks.\n",
    "3. Passes the retrieved documents to the LLM using a 'stuff' documents chain.\n",
    "4. Returns and displays the final answer generated by the LLM.\n",
    "\"\"\"\n",
    "\n",
    "# Get user query\n",
    "prompt1 = input(\"Ask your question: \")\n",
    "\n",
    "# Build RAG pipeline\n",
    "document_chain = create_stuff_documents_chain(llm, prompt)\n",
    "retriever = vector_store.as_retriever()\n",
    "retrieval_chain = create_retrieval_chain(retriever, document_chain)\n",
    "\n",
    "# Run query through RAG system\n",
    "response = retrieval_chain.invoke({'input': prompt1})\n",
    "answer = response['answer']\n",
    "\n",
    "# Output result\n",
    "print(\"Answer:\\n\", answer)\n"
   ]
  },
  {
   "cell_type": "code",
   "execution_count": 129,
   "id": "4f7bc063",
   "metadata": {},
   "outputs": [
    {
     "name": "stdout",
     "output_type": "stream",
     "text": [
      "{'producer': 'Corel PDF Engine Version 17.2.0.688', 'creator': 'CorelDRAW X7', 'creationdate': '2025-04-03T07:25:49-05:00', 'source': 'National-Livestock-Agenda-2025.pdf', 'file_path': 'National-Livestock-Agenda-2025.pdf', 'total_pages': 55, 'format': 'PDF 1.5', 'title': 'National Livestock Agenda.cdr', 'author': 'Administrator', 'subject': '', 'keywords': '', 'moddate': '2025-04-03T07:25:49-05:00', 'trapped': '', 'modDate': \"D:20250403072549-05'00'\", 'creationDate': \"D:20250403072549-05'00'\", 'page': 34}\n",
      "{'producer': 'Corel PDF Engine Version 17.2.0.688', 'creator': 'CorelDRAW X7', 'creationdate': '2025-04-03T07:25:49-05:00', 'source': 'National-Livestock-Agenda-2025.pdf', 'file_path': 'National-Livestock-Agenda-2025.pdf', 'total_pages': 55, 'format': 'PDF 1.5', 'title': 'National Livestock Agenda.cdr', 'author': 'Administrator', 'subject': '', 'keywords': '', 'moddate': '2025-04-03T07:25:49-05:00', 'trapped': '', 'modDate': \"D:20250403072549-05'00'\", 'creationDate': \"D:20250403072549-05'00'\", 'page': 12}\n",
      "{'producer': 'Corel PDF Engine Version 17.2.0.688', 'creator': 'CorelDRAW X7', 'creationdate': '2025-04-03T07:25:49-05:00', 'source': 'National-Livestock-Agenda-2025.pdf', 'file_path': 'National-Livestock-Agenda-2025.pdf', 'total_pages': 55, 'format': 'PDF 1.5', 'title': 'National Livestock Agenda.cdr', 'author': 'Administrator', 'subject': '', 'keywords': '', 'moddate': '2025-04-03T07:25:49-05:00', 'trapped': '', 'modDate': \"D:20250403072549-05'00'\", 'creationDate': \"D:20250403072549-05'00'\", 'page': 8}\n",
      "{'producer': 'Corel PDF Engine Version 17.2.0.688', 'creator': 'CorelDRAW X7', 'creationdate': '2025-04-03T07:25:49-05:00', 'source': 'National-Livestock-Agenda-2025.pdf', 'file_path': 'National-Livestock-Agenda-2025.pdf', 'total_pages': 55, 'format': 'PDF 1.5', 'title': 'National Livestock Agenda.cdr', 'author': 'Administrator', 'subject': '', 'keywords': '', 'moddate': '2025-04-03T07:25:49-05:00', 'trapped': '', 'modDate': \"D:20250403072549-05'00'\", 'creationDate': \"D:20250403072549-05'00'\", 'page': 1}\n"
     ]
    }
   ],
   "source": [
    "context = response['context']\n",
    "for i in range(len(context)):\n",
    "    print(context[i].metadata)"
   ]
  },
  {
   "cell_type": "code",
   "execution_count": 127,
   "id": "76fbdb23",
   "metadata": {},
   "outputs": [
    {
     "data": {
      "text/plain": [
       "{'input': 'what are the challenges faced ny kenya in agriculture',\n",
       " 'context': [Document(id='72641270-b722-4964-90f9-3bb9fc5f3982', metadata={'producer': 'Corel PDF Engine Version 17.2.0.688', 'creator': 'CorelDRAW X7', 'creationdate': '2025-04-03T07:25:49-05:00', 'source': 'National-Livestock-Agenda-2025.pdf', 'file_path': 'National-Livestock-Agenda-2025.pdf', 'total_pages': 55, 'format': 'PDF 1.5', 'title': 'National Livestock Agenda.cdr', 'author': 'Administrator', 'subject': '', 'keywords': '', 'moddate': '2025-04-03T07:25:49-05:00', 'trapped': '', 'modDate': \"D:20250403072549-05'00'\", 'creationDate': \"D:20250403072549-05'00'\", 'page': 34}, page_content=\"chain actors. Key economic challenges include\\nlow household income, limited market access,\\npoorly organized market systems, and under-\\ninvestment. Climate risks, low adopƟon of risk\\ntransfer tools, frequent disease outbreaks,\\ninsecurity, and resource-based conﬂicts also\\nsigniﬁcantly impact the sector's performance.\\nTo address these mulƟfaceted challenges, the\\nresearch\\nagenda\\nshould\\nprioriƟze\\nthe\\nidenƟﬁcaƟon and promoƟon of sustainable\\nlivelihood strategies, risk miƟgaƟon measures,\\nand inclusive policies that support vulnerable\\npopulaƟons. It should also focus on improving\\nmarket access and value chain integraƟon,\\nreducing transacƟon costs, and enhancing the\\ncompeƟƟveness of Kenyan livestock products.\\nBy integraƟng socio-economic consideraƟons\\ninto livestock research, Kenya can ensure that\\nthe\\nsector\\ncontributes\\nto\\ninclusive\\nand\\nsustainable\\ndevelopment,\\nimproving\\nlivelihoods, preserving cultural heritage, and\\npromoƟng social equity for all stakeholders.\"),\n",
       "  Document(id='653875b8-cb09-4ea6-ae5e-9ad6090fb2d3', metadata={'producer': 'Corel PDF Engine Version 17.2.0.688', 'creator': 'CorelDRAW X7', 'creationdate': '2025-04-03T07:25:49-05:00', 'source': 'National-Livestock-Agenda-2025.pdf', 'file_path': 'National-Livestock-Agenda-2025.pdf', 'total_pages': 55, 'format': 'PDF 1.5', 'title': 'National Livestock Agenda.cdr', 'author': 'Administrator', 'subject': '', 'keywords': '', 'moddate': '2025-04-03T07:25:49-05:00', 'trapped': '', 'modDate': \"D:20250403072549-05'00'\", 'creationDate': \"D:20250403072549-05'00'\", 'page': 8}, page_content='farming, the basis of Kenya’s agriculture, is dependent upon producƟve livestock and contributes to\\nsustainable land use while allowing for the dual use of limited space - a key cog in transforming\\nagriculture. RealizaƟon of food and nutriƟon security as envisaged in the Government’s key policies\\ncalls for increased sustainable livestock producƟon.\\nPresently, the major constraints beseƫng Kenya’s livestock industry include diseases, malnutriƟon,\\nmismanagement, and low inherent producƟvity. The present producƟon level is esƟmated to be one-\\nthird of that which should be obtained from exisƟng stock - basically, the country is losing 70% of the\\nrealized potenƟal of the livestock sector Other constraints include increasing human populaƟon\\nleading to pressure on agricultural land and negaƟve ecological outcomes; unsustainable land and\\nenvironment management pracƟces; dependency on unreliable rain-fed agriculture; inaccessible and'),\n",
       "  Document(id='4ed18f52-e0dd-4ecd-9e6e-63d30e772e18', metadata={'producer': 'Corel PDF Engine Version 17.2.0.688', 'creator': 'CorelDRAW X7', 'creationdate': '2025-04-03T07:25:49-05:00', 'source': 'National-Livestock-Agenda-2025.pdf', 'file_path': 'National-Livestock-Agenda-2025.pdf', 'total_pages': 55, 'format': 'PDF 1.5', 'title': 'National Livestock Agenda.cdr', 'author': 'Administrator', 'subject': '', 'keywords': '', 'moddate': '2025-04-03T07:25:49-05:00', 'trapped': '', 'modDate': \"D:20250403072549-05'00'\", 'creationDate': \"D:20250403072549-05'00'\", 'page': 12}, page_content='KENYA NATIONAL LIVESTOCK RESEARCH AGENDA\\n \\n \\n \\n \\n \\n \\n \\n \\n \\n5\\nCHAPTER 2: SITUATIONAL ANALYSIS\\n2.1\\nKEY CHALLENGES AND OPPORTUNITIES IN LIVESTOCK VALUE CHAINS\\nChallenges\\n2.1.1  \\n2.1.2  OpportuniƟes\\ni.\\nInadequate and inconsistent/uncertain investment and funding for livestock research.\\nii. Inadequate livestock research faciliƟes and infrastructure.\\niii. Conﬂict and overlaps in insƟtuƟonal mandates.\\niv. Poor coordinaƟon and regulaƟon of livestock research.\\nv.\\nInadequate and ineﬀecƟve collaboraƟon and partnership among insƟtuƟons undertaking and\\nsupporƟng livestock research.\\nvi. Uncoordinated livestock research priority seƫng.\\nvii. Weak linkage between research priority seƫng; and research program planning.\\nviii.Weak linkage and collaboraƟon between farmers, extension, and researchers.\\nix. Poor and inadequate sharing and disseminaƟon of livestock knowledge.\\nx.\\nInadequate tracking of performance in livestock research programs.'),\n",
       "  Document(id='54e1ef48-4a17-459f-9a47-43d2db1ad1c3', metadata={'producer': 'Corel PDF Engine Version 17.2.0.688', 'creator': 'CorelDRAW X7', 'creationdate': '2025-04-03T07:25:49-05:00', 'source': 'National-Livestock-Agenda-2025.pdf', 'file_path': 'National-Livestock-Agenda-2025.pdf', 'total_pages': 55, 'format': 'PDF 1.5', 'title': 'National Livestock Agenda.cdr', 'author': 'Administrator', 'subject': '', 'keywords': '', 'moddate': '2025-04-03T07:25:49-05:00', 'trapped': '', 'modDate': \"D:20250403072549-05'00'\", 'creationDate': \"D:20250403072549-05'00'\", 'page': 7}, page_content='approaches, and regional potenƟal. Kenya also suﬀers from inadequate data and informaƟon \\nmanagement, which leads to poor planning and prioriƟzaƟon for improved services. This \\nincludes insuﬃcient mapping and inventory of breeds, poor markeƟng for livestock and \\nlivestock products, and inadequate technical, human, and livestock-associated\\ninfrastructure and capacity. The lack or under-uƟlizaƟon of appropriate emerging technologies \\nhas resulted in limited upscaling for smallholder farmers and has led to the producƟon of \\nlivestock and associated products in low quanƟƟes and of poor quality, causing their products \\nto be neglected by both domesƟc and internaƟonal markets.\\nIn the past decade, technological and socio-economic factors aﬀecƟng livestock research have \\nchanged signiﬁcantly. During the same Ɵme, livestock development has increasingly focused \\non diversifying, value addiƟon, improving product quality, food safety, promoƟng equity in')],\n",
       " 'answer': \"Based on the provided context, Kenya faces several challenges in agriculture, particularly in the livestock industry. These challenges include:\\n\\n1. Low household income and limited market access for vulnerable populations.\\n2. Poorly organized market systems and under-investment in the livestock sector.\\n3. Climate risks, low adoption of risk transfer tools, frequent disease outbreaks, insecurity, and resource-based conflicts.\\n4. Inadequate and inconsistent/uncertain investment and funding for livestock research.\\n5. Inadequate livestock research facilities and infrastructure.\\n6. Conflict and overlaps in institutional mandates.\\n7. Poor coordination and regulation of livestock research.\\n8. Inadequate and ineffective collaboration and partnership among institutions undertaking and supporting livestock research.\\n9. Uncoordinated livestock research priority setting.\\n10. Weak linkage between research priority setting and research program planning.\\n11. Weak linkage and collaboration between farmers, extension, and researchers.\\n12. Poor and inadequate sharing and dissemination of livestock knowledge.\\n13. Inadequate tracking of performance in livestock research programs.\\n14. Inadequate data and information management, leading to poor planning and prioritization for improved services.\\n15. Insufficient mapping and inventory of breeds, poor marketing for livestock and livestock products, and inadequate technical, human, and livestock-associated infrastructure and capacity.\\n16. Limited adoption of appropriate emerging technologies, leading to low-scale production and poor quality of livestock and associated products.\\n17. Diseases, malnutrition, mismanagement, and low inherent productivity.\\n18. Increasing human population leading to pressure on agricultural land and negative ecological outcomes.\\n19. Unsustainable land and environment management practices and dependency on unreliable rain-fed agriculture.\\n20. Inaccessible and underutilized livestock genetic resources.\\n\\nThese challenges impact the sustainability, productivity, and resilience of Kenya's agriculture sector, particularly the livestock industry, and require strategic interventions and investments to address them.\"}"
      ]
     },
     "execution_count": 127,
     "metadata": {},
     "output_type": "execute_result"
    }
   ],
   "source": [
    "response"
   ]
  },
  {
   "cell_type": "code",
   "execution_count": null,
   "id": "17e2f4c9",
   "metadata": {},
   "outputs": [],
   "source": []
  }
 ],
 "metadata": {
  "kernelspec": {
   "display_name": "venv",
   "language": "python",
   "name": "python3"
  },
  "language_info": {
   "codemirror_mode": {
    "name": "ipython",
    "version": 3
   },
   "file_extension": ".py",
   "mimetype": "text/x-python",
   "name": "python",
   "nbconvert_exporter": "python",
   "pygments_lexer": "ipython3",
   "version": "3.12.3"
  }
 },
 "nbformat": 4,
 "nbformat_minor": 5
}
